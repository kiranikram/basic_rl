{
 "cells": [
  {
   "cell_type": "markdown",
   "metadata": {
    "pycharm": {
     "name": "#%% md\n"
    }
   },
   "source": [
    "# Coding Test \n",
    "\n",
    "You will be assesed overall on;\n",
    "\n",
    "    1) How far you get in the alloted time.\n",
    "    2) Code optimisations.\n",
    "    3) Code reusability.\n",
    "    4) Code readability.\n",
    "\n",
    "You can create separate python files and include them in a zip when sending back your code. You can include a record of your trained agent performance."
   ]
  },
  {
   "cell_type": "code",
   "execution_count": 3,
   "metadata": {
    "pycharm": {
     "name": "#%%\n"
    }
   },
   "outputs": [],
   "source": []
  },
  {
   "cell_type": "markdown",
   "metadata": {
    "pycharm": {
     "name": "#%% md\n"
    }
   },
   "source": [
    "## PPO"
   ]
  },
  {
   "cell_type": "markdown",
   "metadata": {
    "pycharm": {
     "name": "#%% md\n"
    }
   },
   "source": [
    "##### Based on [Proximal policy optimization](https://arxiv.org/pdf/1707.06347.pdf) (J. Schulman, et al.), implement PPO algorithm to train an agent on 'Acrobot-v1'."
   ]
  },
  {
   "cell_type": "code",
   "execution_count": null,
   "metadata": {},
   "outputs": [],
   "source": []
  }
 ],
 "metadata": {
  "kernelspec": {
   "display_name": "Python 3.10.8 ('envrl': venv)",
   "language": "python",
   "name": "python3"
  },
  "language_info": {
   "codemirror_mode": {
    "name": "ipython",
    "version": 3
   },
   "file_extension": ".py",
   "mimetype": "text/x-python",
   "name": "python",
   "nbconvert_exporter": "python",
   "pygments_lexer": "ipython3",
   "version": "3.10.8"
  },
  "vscode": {
   "interpreter": {
    "hash": "696886948411669489bb36fbeb5884b73ac9ee24bc8c8d18a19fb4032db65ca7"
   }
  }
 },
 "nbformat": 4,
 "nbformat_minor": 4
}
